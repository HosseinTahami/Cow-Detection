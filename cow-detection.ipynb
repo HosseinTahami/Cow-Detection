{
 "cells": [
  {
   "cell_type": "markdown",
   "metadata": {},
   "source": [
    "# Cow Detection"
   ]
  },
  {
   "cell_type": "code",
   "execution_count": 1,
   "metadata": {},
   "outputs": [],
   "source": [
    "import cv2\n",
    "import torch"
   ]
  },
  {
   "cell_type": "code",
   "execution_count": null,
   "metadata": {},
   "outputs": [],
   "source": [
    "model = torch.hub.load('ultralytics/yolov5', 'yolov5s', pretrained=True)"
   ]
  },
  {
   "cell_type": "code",
   "execution_count": null,
   "metadata": {},
   "outputs": [],
   "source": [
    "def detect_cows(model, video_path, output_path):\n",
    "\n",
    "    video = cv2.VideoCapture(video_path)\n",
    "\n",
    "    fps = video.get(cv2.CAP_PROP_FPS)\n",
    "    width = int(video.get(cv2.CAP_PROP_FRAME_WIDTH))\n",
    "    height = int(video.get(cv2.CAP_PROP_FRAME_HEIGHT))\n",
    "\n",
    "    fourcc = cv2.VideoWriter_fourcc(*'mp4v')\n",
    "    out = cv2.VideoWriter(output_path, fourcc, fps, (width, height))\n",
    "\n",
    "    while True:\n",
    "        ret, frame = video.read()\n",
    "\n",
    "        if not ret:\n",
    "            break\n",
    "\n",
    "        results = model(frame)\n",
    "\n",
    "        cows = results.pandas().xyxy[0][results.pandas().xyxy[0]['name'] == 'cow']\n",
    "\n",
    "        for _, cow in cows.iterrows():\n",
    "            xmin, ymin, xmax, ymax = cow[['xmin', 'ymin', 'xmax', 'ymax']]\n",
    "            cv2.rectangle(frame, (int(xmin), int(ymin)), (int(xmax), int(ymax)), (0, 255, 0), 1)\n",
    "\n",
    "        out.write(frame)\n",
    "\n",
    "        cv2.imshow(\"Object Detection\", frame)\n",
    "\n",
    "    video.release()\n",
    "    out.release()\n",
    "\n",
    "    cv2.destroyAllWindows()\n",
    "\n",
    "    print(f\"Detection saved to {output_path}\")"
   ]
  },
  {
   "cell_type": "code",
   "execution_count": null,
   "metadata": {},
   "outputs": [],
   "source": [
    "detect_cows(model, 'Videos/input_video.mp4', 'output_video.mp4')"
   ]
  }
 ],
 "metadata": {
  "kernelspec": {
   "display_name": "base",
   "language": "python",
   "name": "python3"
  },
  "language_info": {
   "codemirror_mode": {
    "name": "ipython",
    "version": 3
   },
   "file_extension": ".py",
   "mimetype": "text/x-python",
   "name": "python",
   "nbconvert_exporter": "python",
   "pygments_lexer": "ipython3",
   "version": "3.12.7"
  }
 },
 "nbformat": 4,
 "nbformat_minor": 2
}
